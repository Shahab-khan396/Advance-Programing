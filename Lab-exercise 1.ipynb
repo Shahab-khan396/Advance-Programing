{
 "cells": [
  {
   "cell_type": "markdown",
   "metadata": {},
   "source": [
    "# Lab Exercise 1: Variables and Common Data Types\n",
    "\n",
    "---\n",
    "\n",
    "### Task 1: Working with Variables\n",
    "\n",
    "1. **Declare and Initialize Variables:**\n",
    "   - Declare a variable for each of the following:\n",
    "     - Your name (string)\n",
    "     - Your age (integer)\n",
    "     - Your height in meters (float)\n",
    "     - Whether you are a student (boolean)\n",
    "\n",
    "2. **Print Variables:**\n",
    "   - Print each variable on a new line using the `print()` function.\n",
    "\n",
    "3. **Update Variables:**\n",
    "   - Update the `age` and `height` variables with new values and print them again.\n",
    "\n",
    "---\n"
   ]
  },
  {
   "cell_type": "code",
   "execution_count": 3,
   "metadata": {},
   "outputs": [
    {
     "name": "stdout",
     "output_type": "stream",
     "text": [
      "My name is Shahab khan\n",
      "I am 20 years old\n",
      "My height is 1.7018 meters\n",
      "I am a studnet True\n",
      "My height is 1.8 meters\n",
      "I am 21 year old\n"
     ]
    }
   ],
   "source": [
    "# Decleare and intializa variables:\n",
    "name = \"Shahab khan\"\n",
    "age = 20\n",
    "height = 1.7018\n",
    "student = True\n",
    "\n",
    "# Print variables\n",
    "print(f\"My name is {name}\")\n",
    "print(f\"I am {age} years old\")\n",
    "print(f\"My height is {height} meters\")\n",
    "print(f\"I am a studnet {student}\")\n",
    "\n",
    "# Update variable\n",
    "age = 21\n",
    "height = 1.80\n",
    "print(f\"My height is {height} meters\")\n",
    "print(f\"I am {age} year old\")"
   ]
  },
  {
   "cell_type": "markdown",
   "metadata": {},
   "source": [
    "### Task 2: Common Data Types\n",
    "\n",
    "1. **Identify Data Types:**\n",
    "   - Use the `type()` function to print the data type of each variable you declared in Task 1.\n",
    "\n",
    "2. **Basic Arithmetic Operations:**\n",
    "   - Create two variables `num1` and `num2`, both of type integer.\n",
    "   - Perform addition, subtraction, multiplication, and division using these variables and print the results.\n",
    "\n",
    "3. **String Concatenation:**\n",
    "   - Concatenate two string variables and print the result.\n",
    "\n",
    "4. **Boolean Operations:**\n",
    "   - Declare two boolean variables `x` and `y`, then perform and print the results of logical operations (AND, OR, NOT) on them.\n",
    "\n",
    "---"
   ]
  },
  {
   "cell_type": "code",
   "execution_count": 5,
   "metadata": {},
   "outputs": [
    {
     "name": "stdout",
     "output_type": "stream",
     "text": [
      "<class 'str'>\n",
      "<class 'int'>\n",
      "<class 'float'>\n",
      "<class 'bool'>\n",
      "The sum of 2 and 3 is 5\n",
      "The subtraction of 2 and 3 is -1\n",
      "The multiple of 2 and 3 is 6\n",
      "The division of 2 and 3 is 0.6666666666666666\n",
      "My name is Shahab khan\n",
      "Or operation\n",
      "Not operation\n"
     ]
    }
   ],
   "source": [
    "# Identify Data types:\n",
    "print(type(name))\n",
    "print(type(age))\n",
    "print(type(height))\n",
    "print(type(student))\n",
    "\n",
    "# Basic Arithmetic operation:\n",
    "num1 = int(2)\n",
    "num2 = int(3)\n",
    "\n",
    "print(f\"The sum of {num1} and {num2} is {num1+num2}\")\n",
    "print(f\"The subtraction of {num1} and {num2} is {num1-num2}\")\n",
    "print(f\"The multiple of {num1} and {num2} is {num1*num2}\")\n",
    "print(f\"The division of {num1} and {num2} is {num1/num2}\")\n",
    "\n",
    "# String concatenation:\n",
    "First_name = \"Shahab\"\n",
    "Last_name = \"khan\"\n",
    "\n",
    "print(\"My name is \"+ First_name +\" \"+ Last_name)\n",
    "\n",
    "# Boolean Operation:\n",
    "x = True\n",
    "y = False\n",
    "\n",
    "if x and y:\n",
    "    print(\"And operation\")\n",
    "if x or y:\n",
    "    print(\"Or operation\")\n",
    "if not y:\n",
    "    print(\"Not operation\")"
   ]
  },
  {
   "cell_type": "markdown",
   "metadata": {},
   "source": [
    "### Task 3: Type Conversion\n",
    "\n",
    "1. **Convert Data Types:**\n",
    "   - Declare an integer, then convert it into a float and a string. Print the results of each conversion.\n",
    "\n",
    "2. **User Input and Type Casting:**\n",
    "   - Write a program that asks the user to input their age. Convert the input (which is always a string) into an integer and print a message that includes the user's age.\n",
    "\n",
    "---"
   ]
  },
  {
   "cell_type": "code",
   "execution_count": 4,
   "metadata": {},
   "outputs": [
    {
     "name": "stdout",
     "output_type": "stream",
     "text": [
      "21.0\n",
      "21.0\n",
      "Your age is 20\n"
     ]
    }
   ],
   "source": [
    "# Convert Data types:\n",
    "age = float(age)\n",
    "print(age)\n",
    "\n",
    "age = str(age)\n",
    "print(age)\n",
    "#User input and type casting:\n",
    "age = int(input(\"Enter your age\"))\n",
    "print(f\"Your age is {age}\")"
   ]
  }
 ],
 "metadata": {
  "kernelspec": {
   "display_name": "workspace_by_shahab",
   "language": "python",
   "name": "python3"
  },
  "language_info": {
   "codemirror_mode": {
    "name": "ipython",
    "version": 3
   },
   "file_extension": ".py",
   "mimetype": "text/x-python",
   "name": "python",
   "nbconvert_exporter": "python",
   "pygments_lexer": "ipython3",
   "version": "3.12.5"
  }
 },
 "nbformat": 4,
 "nbformat_minor": 2
}
