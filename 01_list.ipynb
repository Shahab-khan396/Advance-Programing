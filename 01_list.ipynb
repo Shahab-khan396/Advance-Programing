{
 "cells": [
  {
   "cell_type": "markdown",
   "metadata": {},
   "source": [
    "# Lists\n",
    "## Definition\n",
    "### Lists are ordered collections of items that can store different data types.\n",
    "###                               OR\n",
    "###  lists are containers to store a set of values of any data type.\n",
    "### - list are mutable.\n",
    "### - A list can be indexed just like a string.\n",
    "\n"
   ]
  },
  {
   "cell_type": "markdown",
   "metadata": {},
   "source": [
    "# LIST METHODS.\n",
    "### Consider the following list:"
   ]
  },
  {
   "cell_type": "code",
   "execution_count": 1,
   "metadata": {},
   "outputs": [],
   "source": [
    "l1 = [1,8,7,2,21,15]"
   ]
  },
  {
   "cell_type": "markdown",
   "metadata": {},
   "source": [
    "#### The most used method in list are:\n"
   ]
  },
  {
   "cell_type": "markdown",
   "metadata": {},
   "source": [
    "# 1. append()\n",
    "#### Adds an element to the end of the list."
   ]
  },
  {
   "cell_type": "code",
   "execution_count": 3,
   "metadata": {},
   "outputs": [
    {
     "name": "stdout",
     "output_type": "stream",
     "text": [
      "The element is add at the end of the list [1, 8, 7, 2, 21, 15, 20]\n"
     ]
    }
   ],
   "source": [
    "l1 = [1,8,7,2,21,15]\n",
    "l1.append(20)\n",
    "print('The element is add at the end of the list',l1)"
   ]
  },
  {
   "cell_type": "markdown",
   "metadata": {},
   "source": [
    "# 2. extend()\n",
    "#### Adds all elements of an iterable (like a list) to the end of the list."
   ]
  },
  {
   "cell_type": "code",
   "execution_count": 9,
   "metadata": {},
   "outputs": [
    {
     "name": "stdout",
     "output_type": "stream",
     "text": [
      "The element is add at the end of the list [1, 8, 7, 2, 21, 15, 12, 20]\n"
     ]
    }
   ],
   "source": [
    "l1 = [1,8,7,2,21,15]\n",
    "l1.extend([12,20])\n",
    "print('The method extend/add elements like a list at the end of the list',l1)"
   ]
  },
  {
   "cell_type": "markdown",
   "metadata": {},
   "source": [
    "# 3. insert()\n",
    "#### Inserts an element at a specific position."
   ]
  },
  {
   "cell_type": "code",
   "execution_count": 16,
   "metadata": {},
   "outputs": [
    {
     "name": "stdout",
     "output_type": "stream",
     "text": [
      "The method add element at the specific index of the list [1, 8, 342, 7, 2, 21, 15]\n"
     ]
    }
   ],
   "source": [
    "l1 = [1,8,7,2,21,15]\n",
    "l1.insert(2,342)\n",
    "print('The method add element at the specific index of the list',l1)"
   ]
  },
  {
   "cell_type": "markdown",
   "metadata": {},
   "source": [
    "# 4. remove()\n",
    "#### Removes the first occurrence of the specified value."
   ]
  },
  {
   "cell_type": "code",
   "execution_count": 17,
   "metadata": {},
   "outputs": [
    {
     "name": "stdout",
     "output_type": "stream",
     "text": [
      "The method remove element that is first appear in the list [1, 8, 7, 21, 15, 2]\n"
     ]
    }
   ],
   "source": [
    "l1 = [1,8,7,2,21,15,2]\n",
    "l1.remove(2)\n",
    "print('The method remove element that is first appear in the list',l1)"
   ]
  },
  {
   "cell_type": "markdown",
   "metadata": {},
   "source": [
    "# 5. pop()\n",
    "#### Removes and returns the element at the specified index (default is the last item)."
   ]
  },
  {
   "cell_type": "code",
   "execution_count": 30,
   "metadata": {},
   "outputs": [
    {
     "name": "stdout",
     "output_type": "stream",
     "text": [
      "The method remove and return the element at the specific index of the list :  7\n"
     ]
    }
   ],
   "source": [
    "l1 = [1,8,7,2,21,15]\n",
    "print('The method remove and return the element at the specific index of the list : ',l1.pop(2))\n"
   ]
  },
  {
   "cell_type": "markdown",
   "metadata": {},
   "source": [
    "# 6. clear()\n",
    "#### Removes all elements from the list."
   ]
  },
  {
   "cell_type": "code",
   "execution_count": 31,
   "metadata": {},
   "outputs": [
    {
     "name": "stdout",
     "output_type": "stream",
     "text": [
      "The method add element at the specific index of the list []\n"
     ]
    }
   ],
   "source": [
    "l1 = [1,8,7,2,21,15]\n",
    "l1.clear()\n",
    "print('The method add element at the specific index of the list',l1)"
   ]
  },
  {
   "cell_type": "markdown",
   "metadata": {},
   "source": [
    "# 7. index()\n",
    "#### Returns the index of the first occurrence of a specified value."
   ]
  },
  {
   "cell_type": "code",
   "execution_count": 37,
   "metadata": {},
   "outputs": [
    {
     "name": "stdout",
     "output_type": "stream",
     "text": [
      "The method return the specific index of the element in the list 1\n"
     ]
    }
   ],
   "source": [
    "l1 = [1,8,7,2,21,15]\n",
    "print('The method return the specific index of the element in the list',l1.index(8))"
   ]
  },
  {
   "cell_type": "markdown",
   "metadata": {},
   "source": [
    "# 8. count()\n",
    "#### Returns the number of occurrences of a specified value in the list."
   ]
  },
  {
   "cell_type": "code",
   "execution_count": 43,
   "metadata": {},
   "outputs": [
    {
     "name": "stdout",
     "output_type": "stream",
     "text": [
      "The method return the number of element occurence in the list 6\n"
     ]
    }
   ],
   "source": [
    "l1 = [1,8,7,2,21,15,8,7,21,7,7,7,7]\n",
    "\n",
    "print('The method return the number of element occurence in the list',l1.count(7))"
   ]
  },
  {
   "cell_type": "markdown",
   "metadata": {},
   "source": [
    "# 9. sort()\n",
    "#### Sorts the list in ascending order (can also be customized with parameters)."
   ]
  },
  {
   "cell_type": "code",
   "execution_count": 44,
   "metadata": {},
   "outputs": [
    {
     "name": "stdout",
     "output_type": "stream",
     "text": [
      "The method sort element in the list [1, 2, 7, 8, 15, 21]\n"
     ]
    }
   ],
   "source": [
    "l1 = [1,8,7,2,21,15]\n",
    "l1.sort()\n",
    "print('The method sort element in the list',l1)"
   ]
  },
  {
   "cell_type": "markdown",
   "metadata": {},
   "source": [
    "# 10. reverse()\n",
    "#### Reverses the elements of the list in place."
   ]
  },
  {
   "cell_type": "code",
   "execution_count": 45,
   "metadata": {},
   "outputs": [
    {
     "name": "stdout",
     "output_type": "stream",
     "text": [
      "The method reverse the element of the list [15, 21, 2, 7, 8, 1]\n"
     ]
    }
   ],
   "source": [
    "l1 = [1,8,7,2,21,15]\n",
    "l1.reverse()\n",
    "print('The method reverse the element of the list',l1)"
   ]
  },
  {
   "cell_type": "code",
   "execution_count": null,
   "metadata": {},
   "outputs": [],
   "source": [
    "list=[]\n",
    "n=int(input('Enter number of student'))\n",
    "for i in range(n): \n",
    "   name=input(f'Enter the name of student'(i+1))\n",
    "   age=int(input(f'Enter the age of student'(i+1)))\n",
    "   cgpa=float(input('Enter the cgpa of student'(i+1)))\n",
    "list.append(['name','age','cgpa'])\n",
    "print(list)\n",
    " \n"
   ]
  }
 ],
 "metadata": {
  "kernelspec": {
   "display_name": "workspace_by_shahab",
   "language": "python",
   "name": "python3"
  },
  "language_info": {
   "codemirror_mode": {
    "name": "ipython",
    "version": 3
   },
   "file_extension": ".py",
   "mimetype": "text/x-python",
   "name": "python",
   "nbconvert_exporter": "python",
   "pygments_lexer": "ipython3",
   "version": "3.12.5"
  }
 },
 "nbformat": 4,
 "nbformat_minor": 2
}
