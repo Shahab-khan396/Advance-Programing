{
 "cells": [
  {
   "cell_type": "markdown",
   "metadata": {},
   "source": [
    "# DICTIONARY\n",
    "### Dictionary is a collection of keys-value pairs.\n"
   ]
  },
  {
   "cell_type": "code",
   "execution_count": 3,
   "metadata": {},
   "outputs": [
    {
     "name": "stdout",
     "output_type": "stream",
     "text": [
      "Shahab\n",
      "221396\n",
      "[1, 2, 9]\n"
     ]
    }
   ],
   "source": [
    "a = { \"name\": \"Shahab\", \n",
    "      \"roll-no\": 221396, \n",
    "      \"Department\": \"CS\",\n",
    "       \"list\": [1, 2, 9] } \n",
    "print(a[\"name\"]) \n",
    "print(a[\"roll-no\"]) \n",
    "print(a[\"list\"]) "
   ]
  },
  {
   "cell_type": "markdown",
   "metadata": {},
   "source": [
    "# PROPERTIES OF PYTHON DICTIONARIES\n",
    "### 1.It is unordered.\n",
    "### 2.It is mutable.\n",
    "### 3.It is indexed.\n",
    "### 4.Cannot contain duplicate keys."
   ]
  },
  {
   "cell_type": "markdown",
   "metadata": {},
   "source": [
    "# DICTIONARY METHODS\n",
    "### Consider the following dictionary."
   ]
  },
  {
   "cell_type": "code",
   "execution_count": null,
   "metadata": {},
   "outputs": [],
   "source": [
    "a = { \"name\": \"Shahab\", \n",
    "      \"roll-no\": 221396, \n",
    "      \"Department\": \"CS\",\n",
    "       \"list\": [1, 2, 9] } "
   ]
  },
  {
   "cell_type": "markdown",
   "metadata": {},
   "source": [
    "# 1. dict.get(key, default):\n",
    "### - Returns the value of the specified key. If the key does not exist, it returns the default value."
   ]
  },
  {
   "cell_type": "code",
   "execution_count": 8,
   "metadata": {},
   "outputs": [
    {
     "name": "stdout",
     "output_type": "stream",
     "text": [
      "Shahab\n",
      "221396\n",
      "[1, 2, 9]\n",
      "None\n"
     ]
    }
   ],
   "source": [
    "a = { \"name\": \"Shahab\", \n",
    "      \"roll-no\": 221396, \n",
    "      \"Department\": \"CS\",\n",
    "       \"list\": [1, 2, 9] } \n",
    "print(a.get(\"name\"))\n",
    "print(a.get(\"roll-no\"))\n",
    "print(a.get(\"list\"))\n",
    "print(a.get(\"age\"))\n"
   ]
  },
  {
   "cell_type": "markdown",
   "metadata": {},
   "source": [
    "# 2.dict.keys():\n",
    "### - Returns a view object that displays all the keys in the dictionary."
   ]
  },
  {
   "cell_type": "code",
   "execution_count": 12,
   "metadata": {},
   "outputs": [
    {
     "name": "stdout",
     "output_type": "stream",
     "text": [
      "dict_keys(['name', 'roll-no', 'Department', 'list'])\n"
     ]
    }
   ],
   "source": [
    "a = { \"name\": \"Shahab\", \n",
    "      \"roll-no\": 221396, \n",
    "      \"Department\": \"CS\",\n",
    "       \"list\": [1, 2, 9] } \n",
    "print(a.keys())"
   ]
  },
  {
   "cell_type": "markdown",
   "metadata": {},
   "source": [
    "# 3.dict.values():\n",
    "### - Returns a view object that displays all the values in the dictionary."
   ]
  },
  {
   "cell_type": "code",
   "execution_count": 13,
   "metadata": {},
   "outputs": [
    {
     "name": "stdout",
     "output_type": "stream",
     "text": [
      "dict_values(['Shahab', 221396, 'CS', [1, 2, 9]])\n"
     ]
    }
   ],
   "source": [
    "a = { \"name\": \"Shahab\", \n",
    "      \"roll-no\": 221396, \n",
    "      \"Department\": \"CS\",\n",
    "       \"list\": [1, 2, 9] } \n",
    "print(a.values())"
   ]
  },
  {
   "cell_type": "markdown",
   "metadata": {},
   "source": [
    "# 4.dict.items():\n",
    "### - Returns a view object containing key-value pairs (tuples)."
   ]
  },
  {
   "cell_type": "code",
   "execution_count": 14,
   "metadata": {},
   "outputs": [
    {
     "name": "stdout",
     "output_type": "stream",
     "text": [
      "dict_items([('name', 'Shahab'), ('roll-no', 221396), ('Department', 'CS'), ('list', [1, 2, 9])])\n"
     ]
    }
   ],
   "source": [
    "a = { \"name\": \"Shahab\", \n",
    "      \"roll-no\": 221396, \n",
    "      \"Department\": \"CS\",\n",
    "       \"list\": [1, 2, 9] } \n",
    "print(a.items())"
   ]
  },
  {
   "cell_type": "markdown",
   "metadata": {},
   "source": [
    "# 5.dict.update():\n",
    "### - Updates the dictionary with key-value pairs from another dictionary or an iterable of key-value pairs."
   ]
  },
  {
   "cell_type": "code",
   "execution_count": 23,
   "metadata": {},
   "outputs": [
    {
     "name": "stdout",
     "output_type": "stream",
     "text": [
      "None\n",
      "{'name': 'Shahab', 'roll-no': 221396, 'Department': 'CS', 'list': [1, 2, 9], 'age': 21}\n"
     ]
    }
   ],
   "source": [
    "a = { \"name\": \"Shahab\", \n",
    "      \"roll-no\": 221396, \n",
    "      \"Department\": \"CS\",\n",
    "       \"list\": [1, 2, 9] } \n",
    "new_dic={\"age\":21}\n",
    "print(a.update(new_dic))\n",
    "print(a)"
   ]
  },
  {
   "cell_type": "markdown",
   "metadata": {},
   "source": [
    "# 6.dict.pop(key, default):\n",
    "### - Removes the specified key and returns the value. If the key is not found, the default value is returned."
   ]
  },
  {
   "cell_type": "code",
   "execution_count": 41,
   "metadata": {},
   "outputs": [
    {
     "name": "stdout",
     "output_type": "stream",
     "text": [
      "Shahab\n"
     ]
    }
   ],
   "source": [
    "a = { \"name\": \"Shahab\", \n",
    "      \"roll-no\": 221396, \n",
    "      \"Department\": \"CS\",\n",
    "       \"list\": [1, 2, 9] } \n",
    "print(a.pop(\"name\"))"
   ]
  },
  {
   "cell_type": "markdown",
   "metadata": {},
   "source": [
    "# 7.dict.clear():\n",
    "### - Removes all items from the dictionary, leaving it empty."
   ]
  },
  {
   "cell_type": "code",
   "execution_count": 43,
   "metadata": {},
   "outputs": [
    {
     "name": "stdout",
     "output_type": "stream",
     "text": [
      "None\n",
      "{}\n"
     ]
    }
   ],
   "source": [
    "a = { \"name\": \"Shahab\", \n",
    "      \"roll-no\": 221396, \n",
    "      \"Department\": \"CS\",\n",
    "       \"list\": [1, 2, 9] } \n",
    "print(a.clear())\n",
    "print(a)"
   ]
  },
  {
   "cell_type": "markdown",
   "metadata": {},
   "source": [
    "# 8.dict.copy():\n",
    "### - Returns a shallow copy of the dictionary."
   ]
  },
  {
   "cell_type": "code",
   "execution_count": 45,
   "metadata": {},
   "outputs": [
    {
     "name": "stdout",
     "output_type": "stream",
     "text": [
      "{'name': 'Shahab', 'roll-no': 221396, 'Department': 'CS', 'list': [1, 2, 9]}\n",
      "{'name': 'Shahab', 'roll-no': 221396, 'Department': 'CS', 'list': [1, 2, 9]}\n"
     ]
    }
   ],
   "source": [
    "a = { \"name\": \"Shahab\", \n",
    "      \"roll-no\": 221396, \n",
    "      \"Department\": \"CS\",\n",
    "       \"list\": [1, 2, 9] } \n",
    "print(a.copy())\n",
    "print(a)"
   ]
  },
  {
   "cell_type": "markdown",
   "metadata": {},
   "source": [
    "# 9.dict.popitem():\n",
    "### - Removes and returns the last inserted key-value pair as a tuple. Raises a KeyError if the dictionary is empty."
   ]
  },
  {
   "cell_type": "code",
   "execution_count": 46,
   "metadata": {},
   "outputs": [
    {
     "name": "stdout",
     "output_type": "stream",
     "text": [
      "('list', [1, 2, 9])\n"
     ]
    }
   ],
   "source": [
    "a = { \"name\": \"Shahab\", \n",
    "      \"roll-no\": 221396, \n",
    "      \"Department\": \"CS\",\n",
    "       \"list\": [1, 2, 9] } \n",
    "print(a.popitem())"
   ]
  },
  {
   "cell_type": "markdown",
   "metadata": {},
   "source": [
    "# 10.dict.__contains__(key):\n",
    "### - Returns True if the dictionary contains the specified key, otherwise False."
   ]
  },
  {
   "cell_type": "code",
   "execution_count": 55,
   "metadata": {},
   "outputs": [
    {
     "name": "stdout",
     "output_type": "stream",
     "text": [
      "False\n"
     ]
    }
   ],
   "source": [
    "a = { \"name\": \"Shahab\", \n",
    "      \"roll-no\": 221396, \n",
    "      \"Department\": \"CS\",\n",
    "       \"list\": [1, 2, 9] } \n",
    "print(\"age\" in a)"
   ]
  }
 ],
 "metadata": {
  "kernelspec": {
   "display_name": "workspace_by_shahab",
   "language": "python",
   "name": "python3"
  },
  "language_info": {
   "codemirror_mode": {
    "name": "ipython",
    "version": 3
   },
   "file_extension": ".py",
   "mimetype": "text/x-python",
   "name": "python",
   "nbconvert_exporter": "python",
   "pygments_lexer": "ipython3",
   "version": "3.12.5"
  }
 },
 "nbformat": 4,
 "nbformat_minor": 2
}
