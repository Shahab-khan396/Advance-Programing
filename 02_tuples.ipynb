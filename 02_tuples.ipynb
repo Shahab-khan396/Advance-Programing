{
 "cells": [
  {
   "cell_type": "markdown",
   "metadata": {},
   "source": [
    "# TUPLES IN PYTHON\n",
    "###   A tuple is an immutable data type in python.\n",
    "###                  OR\n",
    "### Tuples are ordered, immutable collections of items, meaning their values cannot be changed once assigned.\n",
    "#\n",
    "### - Tuples are useful for fixed data sets that should not be altered\n",
    "### - Like lists, tuples are indexed starting from 0.\n",
    "### - Can contain mixed data types, including integers, floats, strings, or other tuples\n"
   ]
  },
  {
   "cell_type": "markdown",
   "metadata": {},
   "source": [
    "#### Tuples in Python are immutable, meaning their elements cannot be changed after they are created. As a result, tuples have far fewer methods than lists. However, the two most commonly used methods for tuples are:"
   ]
  },
  {
   "cell_type": "markdown",
   "metadata": {},
   "source": [
    "# Method in tuple:"
   ]
  },
  {
   "cell_type": "markdown",
   "metadata": {},
   "source": [
    "# 1. count()\n",
    "### Returns the number of times a specified value occurs in a tuple."
   ]
  },
  {
   "cell_type": "code",
   "execution_count": 7,
   "metadata": {},
   "outputs": [
    {
     "name": "stdout",
     "output_type": "stream",
     "text": [
      "3\n"
     ]
    }
   ],
   "source": [
    "tuple = (1, 2, 3, 2, 2)\n",
    "print(tuple.count(2))"
   ]
  },
  {
   "cell_type": "markdown",
   "metadata": {},
   "source": [
    "# 2. index()\n",
    "### Returns the index of the first occurrence of a specified value."
   ]
  },
  {
   "cell_type": "code",
   "execution_count": 13,
   "metadata": {},
   "outputs": [
    {
     "name": "stdout",
     "output_type": "stream",
     "text": [
      "6\n"
     ]
    }
   ],
   "source": [
    "tuple = (1, 2, 3, 2,4,6,7)\n",
    "print(tuple.index(7))  #"
   ]
  }
 ],
 "metadata": {
  "kernelspec": {
   "display_name": "workspace_by_shahab",
   "language": "python",
   "name": "python3"
  },
  "language_info": {
   "codemirror_mode": {
    "name": "ipython",
    "version": 3
   },
   "file_extension": ".py",
   "mimetype": "text/x-python",
   "name": "python",
   "nbconvert_exporter": "python",
   "pygments_lexer": "ipython3",
   "version": "3.12.5"
  }
 },
 "nbformat": 4,
 "nbformat_minor": 2
}
