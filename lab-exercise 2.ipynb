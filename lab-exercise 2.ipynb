{
 "cells": [
  {
   "cell_type": "markdown",
   "metadata": {},
   "source": [
    "# Lab Exercise 2: Conditional Statements and Data Types in Python\n",
    "\n",
    "## Instructions:\n",
    "Complete the following tasks by writing Python code for each. Ensure that you test each part to see the output in your IDE.\n",
    "\n",
    "---\n",
    "\n",
    "### Task 1: Conditions and Comparison Operators\n",
    "\n",
    "1. **Comparison Operators:**\n",
    "   - Write code to compare two integers using the following operators:\n",
    "     - `==` (equal to)\n",
    "     - `!=` (not equal to)\n",
    "     - `>` (greater than)\n",
    "     - `<` (less than)\n",
    "     - `>=` (greater than or equal to)\n",
    "     - `<=` (less than or equal to)\n",
    "   - Print the result of each comparison.\n",
    "\n",
    "---"
   ]
  },
  {
   "cell_type": "code",
   "execution_count": 1,
   "metadata": {},
   "outputs": [
    {
     "name": "stdout",
     "output_type": "stream",
     "text": [
      "False\n",
      "True\n",
      "True\n",
      "False\n",
      "True\n",
      "False\n"
     ]
    }
   ],
   "source": [
    "num1 = 20\n",
    "num2 = 12\n",
    "\n",
    "print(num1 == num2)\n",
    "print(num1 != num2)\n",
    "print(num1 > num2)\n",
    "print(num1 < num2)\n",
    "print(num1 >= num2)\n",
    "print(num1 <= num2)"
   ]
  },
  {
   "cell_type": "markdown",
   "metadata": {},
   "source": [
    "### Task 2: Logical Operators (`and`, `or`, `not`)\n",
    "\n",
    "1. **Logical Operations:**\n",
    "   - Declare two boolean variables, `x` and `y`.\n",
    "   - Use the `and`, `or`, and `not` operators to combine these boolean variables.\n",
    "   - Print the result of each logical operation.\n",
    "\n",
    "---"
   ]
  },
  {
   "cell_type": "code",
   "execution_count": 2,
   "metadata": {},
   "outputs": [
    {
     "name": "stdout",
     "output_type": "stream",
     "text": [
      "Or operation\n"
     ]
    }
   ],
   "source": [
    "# Boolean Operation:\n",
    "x =False\n",
    "y =True\n",
    "\n",
    "if x and y:\n",
    "    print(\"And operation\")\n",
    "if x or y:\n",
    "    print(\"Or operation\")\n",
    "if not y:\n",
    "    print(\"Not operation\")"
   ]
  },
  {
   "cell_type": "markdown",
   "metadata": {},
   "source": [
    "### Task 3: `if` Statements\n",
    "\n",
    "1. **Basic `if` Statement:**\n",
    "   - Declare an integer variable `num`.\n",
    "   - Write an `if` statement that prints \"Number is positive\" if `num` is greater than 0.\n",
    "\n",
    "---"
   ]
  },
  {
   "cell_type": "code",
   "execution_count": 3,
   "metadata": {},
   "outputs": [
    {
     "name": "stdout",
     "output_type": "stream",
     "text": [
      "Number is positive\n"
     ]
    }
   ],
   "source": [
    "num = 31\n",
    "\n",
    "if num > 0:\n",
    "    print(\"Number is positive\")"
   ]
  },
  {
   "cell_type": "markdown",
   "metadata": {},
   "source": [
    "### Task 4: `if-else` Statements\n",
    "\n",
    "1. **`if-else` Example:**\n",
    "   - Modify the code from Task 3 to include an `else` clause that prints \"Number is non-positive\" if the condition is not met.\n",
    "\n",
    "---"
   ]
  },
  {
   "cell_type": "code",
   "execution_count": 4,
   "metadata": {},
   "outputs": [
    {
     "name": "stdout",
     "output_type": "stream",
     "text": [
      "Number is non-positive\n"
     ]
    }
   ],
   "source": [
    "num = -21\n",
    "\n",
    "if num > 0:\n",
    "    print(\"Number is positive\")\n",
    "else:\n",
    "    print(\"Number is non-positive\")   "
   ]
  },
  {
   "cell_type": "markdown",
   "metadata": {},
   "source": [
    "### Task 5: `if-elif-else` Statements\n",
    "\n",
    "1. **`if-elif-else` Example:**\n",
    "   - Declare a variable `grade` and assign it a value between 0 and 100.\n",
    "   - Write an `if-elif-else` statement that categorizes the `grade` as follows:\n",
    "     - 90 or above: Print \"Excellent\"\n",
    "     - 80-89: Print \"Very Good\"\n",
    "     - 70-79: Print \"Good\"\n",
    "     - 60-69: Print \"Satisfactory\"\n",
    "     - Below 60: Print \"Fail\"\n",
    "\n",
    "---\n"
   ]
  },
  {
   "cell_type": "code",
   "execution_count": null,
   "metadata": {},
   "outputs": [
    {
     "data": {
      "text/plain": [
       "Excellent\n"
      ]
     },
     "metadata": {},
     "output_type": "display_data"
    }
   ],
   "source": [
    "grade = 90\n",
    "if grade >= 90:\n",
    "    print(\"Excellent\")\n",
    "elif grade >= 80 :\n",
    "    print(\"Very Good\")\n",
    "elif grade >= 70 :\n",
    "    print(\"Good\")\n",
    "elif grade >= 60 :\n",
    "    print(\"Satisfactory\")\n",
    "else:\n",
    "    print(\"Fail\")"
   ]
  },
  {
   "cell_type": "markdown",
   "metadata": {},
   "source": [
    "### Task 6: Conditional Logic with Integer Data Types\n",
    "\n",
    "1. **Integer Condition:**\n",
    "   - Declare an integer variable `num`.\n",
    "   - Write an `if-else` statement to check if the number is even or odd, then print the result.\n",
    "\n",
    "---"
   ]
  },
  {
   "cell_type": "code",
   "execution_count": 7,
   "metadata": {},
   "outputs": [
    {
     "name": "stdout",
     "output_type": "stream",
     "text": [
      "Odd :41\n"
     ]
    }
   ],
   "source": [
    "num = 41\n",
    "if num % 2 == 0:\n",
    "    print(f\"Even :{num}\")\n",
    "else:\n",
    "    print(f\"Odd :{num}\")\n"
   ]
  },
  {
   "cell_type": "markdown",
   "metadata": {},
   "source": [
    "### Task 7: Conditional Logic with Float Data Types\n",
    "\n",
    "1. **Float Condition:**\n",
    "   - Declare a float variable `temperature`.\n",
    "   - Write an `if-else` statement that checks if the `temperature` is below or above freezing (0 degrees Celsius), and print a message accordingly.\n",
    "\n",
    "---"
   ]
  },
  {
   "cell_type": "code",
   "execution_count": 10,
   "metadata": {},
   "outputs": [
    {
     "name": "stdout",
     "output_type": "stream",
     "text": [
      "Temperature is 37.0 Celsius\n"
     ]
    }
   ],
   "source": [
    "temperature = 37.00\n",
    "if temperature > 0:\n",
    "    print(f\"Temperature is {temperature} Celsius\")\n",
    "else:\n",
    "    print(f\"Temperature is below zero {temperature} Celsius\")"
   ]
  },
  {
   "cell_type": "markdown",
   "metadata": {},
   "source": [
    "### Task 8: Conditional Logic with Boolean Data Types\n",
    "\n",
    "1. **Boolean Condition:**\n",
    "   - Declare a boolean variable `is_student`.\n",
    "   - Write an `if-else` statement to print \"Welcome, student!\" if `is_student` is `True`, and print \"Access Denied\" if `is_student` is `False`.\n",
    "\n",
    "---"
   ]
  },
  {
   "cell_type": "code",
   "execution_count": 13,
   "metadata": {},
   "outputs": [
    {
     "name": "stdout",
     "output_type": "stream",
     "text": [
      "Welcome, student!\n"
     ]
    }
   ],
   "source": [
    "student = True\n",
    "if student:\n",
    "    print(\"Welcome, student!\")\n",
    "else:\n",
    "    print(\"Access Denied\")"
   ]
  },
  {
   "cell_type": "markdown",
   "metadata": {},
   "source": [
    "### Task 9: Conditional Logic with List Data Types\n",
    "\n",
    "1. **List Condition:**\n",
    "   - Declare a list `my_list` with 5 integer elements.\n",
    "   - Write an `if` statement to check if the list contains more than 3 elements. If true, print \"List has more than 3 elements.\"\n",
    "\n",
    "---"
   ]
  },
  {
   "cell_type": "code",
   "execution_count": null,
   "metadata": {},
   "outputs": [
    {
     "data": {
      "text/plain": [
       "List has more than 3 elements\n"
      ]
     },
     "metadata": {},
     "output_type": "display_data"
    }
   ],
   "source": [
    "my_list= [2,4,1,5,7]\n",
    "if len(my_list) >= 3:\n",
    "    print(\"List has more than 3 elements\")"
   ]
  },
  {
   "cell_type": "markdown",
   "metadata": {},
   "source": [
    "### Task 10: Conditional Logic with Tuples and Dictionaries\n",
    "\n",
    "1. **Tuple Condition:**\n",
    "   - Declare a tuple `my_tuple` with some integer values.\n",
    "   - Write an `if-else` statement to check if the tuple is empty or not, and print an appropriate message.\n",
    "\n",
    "2. **Dictionary Condition:**\n",
    "   - Declare a dictionary `my_dict` with at least two key-value pairs.\n",
    "   - Write an `if-else` statement to check if a particular key exists in the dictionary. Print a message indicating whether the key was found.\n",
    "\n",
    "---"
   ]
  },
  {
   "cell_type": "code",
   "execution_count": 14,
   "metadata": {},
   "outputs": [
    {
     "name": "stdout",
     "output_type": "stream",
     "text": [
      "my tuples is Not Empty\n",
      "Key 'country' exists in my dict\n"
     ]
    }
   ],
   "source": [
    "# Tuples Condition:\n",
    "my_tuples = (2,4,1,6,9)\n",
    "\n",
    "if my_tuples:\n",
    "    print(\"my tuples is Not Empty\")\n",
    "else:\n",
    "    print(\"my tuples is Empty\")\n",
    "\n",
    "# Dictionary Condition:\n",
    "my_dict = {'First_Name': 'Shahab' ,'Last_name':'khan', 'age': 20, 'country': 'Pakistan'}\n",
    "\n",
    "key_check = \"country\"\n",
    "\n",
    "if key_check in my_dict:\n",
    "    print(f\"Key '{key_check}' exists in my dict\")\n",
    "else:\n",
    "    print(f\"Key {key_check} does not exists in my dict\")"
   ]
  }
 ],
 "metadata": {
  "kernelspec": {
   "display_name": "workspace_by_shahab",
   "language": "python",
   "name": "python3"
  },
  "language_info": {
   "codemirror_mode": {
    "name": "ipython",
    "version": 3
   },
   "file_extension": ".py",
   "mimetype": "text/x-python",
   "name": "python",
   "nbconvert_exporter": "python",
   "pygments_lexer": "ipython3",
   "version": "3.12.5"
  }
 },
 "nbformat": 4,
 "nbformat_minor": 2
}
