{
 "cells": [
  {
   "cell_type": "markdown",
   "metadata": {},
   "source": [
    "\n",
    "# CALCULATOR (Initial version)"
   ]
  },
  {
   "cell_type": "code",
   "execution_count": 23,
   "metadata": {},
   "outputs": [
    {
     "name": "stdout",
     "output_type": "stream",
     "text": [
      "Simple Calculator\n",
      "Enter the operation you want to perform:\n",
      "1. Addition (+)\n",
      "2. Subtraction (-)\n",
      "3. Multiplication (*)\n",
      "4. Division (/)\n",
      "3.0 + 5.0 = 8.0\n"
     ]
    }
   ],
   "source": [
    "print(\"Simple Calculator\")\n",
    "print(\"Enter the operation you want to perform:\")\n",
    "print(\"1. Addition (+)\")\n",
    "print(\"2. Subtraction (-)\")\n",
    "print(\"3. Multiplication (*)\")\n",
    "print(\"4. Division (/)\")\n",
    "\n",
    "    # Take input from the user\n",
    "operation = input(\"Choose an operation (1/2/3/4): \")\n",
    " \n",
    "if operation in ['1', '2', '3', '4']:\n",
    "        num1 = float(input(\"Enter first number: \"))\n",
    "        num2 = float(input(\"Enter second number: \"))\n",
    "\n",
    "        if operation == '1':\n",
    "            print(f\"{num1} + {num2} = {num1 + num2}\")\n",
    "        elif operation == '2':\n",
    "            print(f\"{num1} - {num2} = {num1 - num2}\")\n",
    "        elif operation == '3':\n",
    "            print(f\"{num1} * {num2} = {num1 * num2}\")\n",
    "        elif operation == '4':\n",
    "            if num2 != 0:\n",
    "                print(f\"{num1} / {num2} = {num1 / num2}\")\n",
    "            else:\n",
    "                print(\"Error: Division by zero is not allowed!\")\n",
    "else:\n",
    "        print(\"Invalid operation selected.\")\n",
    "\n"
   ]
  },
  {
   "cell_type": "markdown",
   "metadata": {},
   "source": [
    "# Basic Salary Calculator"
   ]
  },
  {
   "cell_type": "code",
   "execution_count": 1,
   "metadata": {},
   "outputs": [
    {
     "name": "stdout",
     "output_type": "stream",
     "text": [
      "Your net salary is: 2050.0\n"
     ]
    }
   ],
   "source": [
    "# Input from user\n",
    "basic_salary = float(input(\"Enter your basic salary: \"))\n",
    "allowances = float(input(\"Enter total allowances: \"))\n",
    "deductions = float(input(\"Enter total deductions: \"))\n",
    "gross_salary = basic_salary + allowances\n",
    "net_salary = gross_salary - deductions\n",
    "# Output the net salary\n",
    "print(f\"Your net salary is: {net_salary}\")"
   ]
  },
  {
   "cell_type": "markdown",
   "metadata": {},
   "source": [
    "# Calcultor(2nd Version)"
   ]
  },
  {
   "cell_type": "code",
   "execution_count": 17,
   "metadata": {},
   "outputs": [
    {
     "name": "stdout",
     "output_type": "stream",
     "text": [
      "\n",
      "Simple Calculator\n",
      "Select the operation you want to perform:\n",
      "1. Addition (+)\n",
      "2. Subtraction (-)\n",
      "3. Multiplication (*)\n",
      "4. Division (/)\n",
      "5. Exit\n",
      "2.0 * 5.0 = 10.0\n",
      "\n",
      "Simple Calculator\n",
      "Select the operation you want to perform:\n",
      "1. Addition (+)\n",
      "2. Subtraction (-)\n",
      "3. Multiplication (*)\n",
      "4. Division (/)\n",
      "5. Exit\n",
      "Exiting the calculator. Goodbye!\n"
     ]
    }
   ],
   "source": [
    "while True:\n",
    "        print(\"\\nSimple Calculator\")\n",
    "        print(\"Select the operation you want to perform:\")\n",
    "        print(\"1. Addition (+)\")\n",
    "        print(\"2. Subtraction (-)\")\n",
    "        print(\"3. Multiplication (*)\")\n",
    "        print(\"4. Division (/)\")\n",
    "        print(\"5. Exit\")\n",
    "\n",
    "        # Take input from the user\n",
    "        operation = input(\"Choose an operation (1/2/3/4/5): \")\n",
    "\n",
    "        if operation == '5':\n",
    "            print(\"Exiting the calculator. Goodbye!\")\n",
    "            break  # Exit the loop if the user chooses to exit\n",
    "\n",
    "        if operation in ['1', '2', '3', '4']:\n",
    "            num1 = float(input(\"Enter first number: \"))\n",
    "            num2 = float(input(\"Enter second number: \"))\n",
    "\n",
    "            if operation == '1':\n",
    "                print(f\"{num1} + {num2} = {num1 + num2}\")\n",
    "            elif operation == '2':\n",
    "                print(f\"{num1} - {num2} = {num1 - num2}\")\n",
    "            elif operation == '3':\n",
    "                print(f\"{num1} * {num2} = {num1 * num2}\")\n",
    "            elif operation == '4':\n",
    "                if num2 != 0:\n",
    "                    print(f\"{num1} / {num2} = {num1 / num2}\")\n",
    "                else:\n",
    "                    print(\"Error: Division by zero is not allowed!\")\n",
    "        else:\n",
    "            print(\"Invalid operation selected. Please try again.\")"
   ]
  },
  {
   "cell_type": "markdown",
   "metadata": {},
   "source": [
    "# Calculator 3rd Verision using functions"
   ]
  },
  {
   "cell_type": "code",
   "execution_count": 18,
   "metadata": {},
   "outputs": [
    {
     "name": "stdout",
     "output_type": "stream",
     "text": [
      "\n",
      "Simple Calculator\n",
      "Select the operation you want to perform:\n",
      "1. Addition (+)\n",
      "2. Subtraction (-)\n",
      "3. Multiplication (*)\n",
      "4. Division (/)\n",
      "5. Exit\n",
      "10.0 / 2.0 = 5.0\n",
      "\n",
      "Simple Calculator\n",
      "Select the operation you want to perform:\n",
      "1. Addition (+)\n",
      "2. Subtraction (-)\n",
      "3. Multiplication (*)\n",
      "4. Division (/)\n",
      "5. Exit\n",
      "0.0 / 10.0 = 0.0\n",
      "\n",
      "Simple Calculator\n",
      "Select the operation you want to perform:\n",
      "1. Addition (+)\n",
      "2. Subtraction (-)\n",
      "3. Multiplication (*)\n",
      "4. Division (/)\n",
      "5. Exit\n",
      "Error: Division by zero is not allowed!\n",
      "\n",
      "Simple Calculator\n",
      "Select the operation you want to perform:\n",
      "1. Addition (+)\n",
      "2. Subtraction (-)\n",
      "3. Multiplication (*)\n",
      "4. Division (/)\n",
      "5. Exit\n",
      "Exiting the calculator. Goodbye!\n"
     ]
    }
   ],
   "source": [
    "def calculator():\n",
    "    while True:\n",
    "        print(\"\\nSimple Calculator\")\n",
    "        print(\"Select the operation you want to perform:\")\n",
    "        print(\"1. Addition (+)\")\n",
    "        print(\"2. Subtraction (-)\")\n",
    "        print(\"3. Multiplication (*)\")\n",
    "        print(\"4. Division (/)\")\n",
    "        print(\"5. Exit\")\n",
    "\n",
    "        # Take input from the user\n",
    "        operation = input(\"Choose an operation (1/2/3/4/5): \")\n",
    "\n",
    "        if operation == '5':\n",
    "            print(\"Exiting the calculator. Goodbye!\")\n",
    "            break  # Exit the loop if the user chooses to exit\n",
    "\n",
    "        if operation in ['1', '2', '3', '4']:\n",
    "            num1 = float(input(\"Enter first number: \"))\n",
    "            num2 = float(input(\"Enter second number: \"))\n",
    "\n",
    "            if operation == '1':\n",
    "                print(f\"{num1} + {num2} = {num1 + num2}\")\n",
    "            elif operation == '2':\n",
    "                print(f\"{num1} - {num2} = {num1 - num2}\")\n",
    "            elif operation == '3':\n",
    "                print(f\"{num1} * {num2} = {num1 * num2}\")\n",
    "            elif operation == '4':\n",
    "                if num2 != 0:\n",
    "                    print(f\"{num1} / {num2} = {num1 / num2}\")\n",
    "                else:\n",
    "                    print(\"Error: Division by zero is not allowed!\")\n",
    "        else:\n",
    "            print(\"Invalid operation selected. Please try again.\")\n",
    "\n",
    "# Call the calculator function\n",
    "calculator()\n"
   ]
  },
  {
   "cell_type": "markdown",
   "metadata": {},
   "source": [
    "# Calculator version 4 : (More functional)"
   ]
  },
  {
   "cell_type": "code",
   "execution_count": 22,
   "metadata": {},
   "outputs": [
    {
     "name": "stdout",
     "output_type": "stream",
     "text": [
      "\n",
      "Simple Calculator\n",
      "Select the operation you want to perform:\n",
      "1. Addition (+)\n",
      "2. Subtraction (-)\n",
      "3. Multiplication (*)\n",
      "4. Division (/)\n",
      "5. Square\n",
      "6. Cube\n",
      "7. Factorial\n",
      "0. Exit\n",
      "The cube of 2.0 is 8.0.\n",
      "\n",
      "Simple Calculator\n",
      "Select the operation you want to perform:\n",
      "1. Addition (+)\n",
      "2. Subtraction (-)\n",
      "3. Multiplication (*)\n",
      "4. Division (/)\n",
      "5. Square\n",
      "6. Cube\n",
      "7. Factorial\n",
      "0. Exit\n",
      "Exiting the calculator. Goodbye!\n"
     ]
    }
   ],
   "source": [
    "#****************************************************BASIC OPERATION**************************************************************************\n",
    "\n",
    "# Function to perform basic calculations\n",
    "def calculator():\n",
    "    while True:\n",
    "        print(\"\\nSimple Calculator\")\n",
    "        print(\"Select the operation you want to perform:\")\n",
    "        print(\"1. Addition (+)\")\n",
    "        print(\"2. Subtraction (-)\")\n",
    "        print(\"3. Multiplication (*)\")\n",
    "        print(\"4. Division (/)\")\n",
    "        print(\"5. Square\")\n",
    "        print(\"6. Cube\")\n",
    "        print(\"7. Factorial\")\n",
    "        print(\"0. Exit\")\n",
    "\n",
    "        # Take input from the user\n",
    "        operation = input(\"Choose an operation (1/2/3/4/5/6/7/0): \")\n",
    "\n",
    "        if operation == '0':\n",
    "            print(\"Exiting the calculator. Goodbye!\")\n",
    "            break  # Exit the loop if the user chooses to exit\n",
    "\n",
    "        if operation in ['1', '2', '3', '4']:\n",
    "            num1 = float(input(\"Enter first number: \"))\n",
    "            num2 = float(input(\"Enter second number: \"))\n",
    "\n",
    "            if operation == '1':\n",
    "                print(f\"{num1} + {num2} = {num1 + num2}\")\n",
    "            elif operation == '2':\n",
    "                print(f\"{num1} - {num2} = {num1 - num2}\")\n",
    "            elif operation == '3':\n",
    "                print(f\"{num1} * {num2} = {num1 * num2}\")\n",
    "            elif operation == '4':\n",
    "                if num2 != 0:\n",
    "                    print(f\"{num1} / {num2} = {num1 / num2}\")\n",
    "                else:\n",
    "                    print(\"Error: Division by zero is not allowed!\")\n",
    "\n",
    "        elif operation == '5':\n",
    "            num = float(input(\"Enter a number to calculate its square: \"))\n",
    "            print(f\"The square of {num} is {square(num)}.\")\n",
    "\n",
    "        elif operation == '6':\n",
    "            num = float(input(\"Enter a number to calculate its cube: \"))\n",
    "            print(f\"The cube of {num} is {cube(num)}.\")\n",
    "\n",
    "        elif operation == '7':\n",
    "            num = int(input(\"Enter a number to calculate its factorial: \"))\n",
    "            print(f\"The factorial of {num} is {factorial(num)}.\")\n",
    "\n",
    "        else:\n",
    "            print(\"Invalid operation selected. Please try again.\")\n",
    "\n",
    "#------------------------------------------------------------------------------------------------------------------------------------------\n",
    "                                     # Function Declarations\n",
    "\n",
    "#**************************************************SQUARE FUNCTION***************************************************************************\n",
    "def square(n):\n",
    "    return n * n\n",
    "\n",
    "#********************************************************CUBIC FUNCTION*************************************************************************\n",
    "def cube(n):\n",
    "    return n * n * n\n",
    "\n",
    "#******************************************************FACTORIAL FUNCTION**************************************************************************\n",
    "def factorial(n):\n",
    "    if n < 0:\n",
    "        return \"Factorial is not defined for negative numbers.\"\n",
    "    elif n == 0 or n == 1:\n",
    "        return 1\n",
    "    else:\n",
    "        result = 1\n",
    "        for i in range(2, n + 1):\n",
    "            result *= i\n",
    "        return result\n",
    "\n",
    "# Call the calculator function\n",
    "calculator()\n"
   ]
  }
 ],
 "metadata": {
  "kernelspec": {
   "display_name": "workspace_by_shahab",
   "language": "python",
   "name": "python3"
  },
  "language_info": {
   "codemirror_mode": {
    "name": "ipython",
    "version": 3
   },
   "file_extension": ".py",
   "mimetype": "text/x-python",
   "name": "python",
   "nbconvert_exporter": "python",
   "pygments_lexer": "ipython3",
   "version": "3.12.5"
  }
 },
 "nbformat": 4,
 "nbformat_minor": 2
}
