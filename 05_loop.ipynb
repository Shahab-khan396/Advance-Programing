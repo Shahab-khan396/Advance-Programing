{
 "cells": [
  {
   "cell_type": "markdown",
   "metadata": {},
   "source": [
    "# LOOPS"
   ]
  },
  {
   "cell_type": "markdown",
   "metadata": {},
   "source": [
    "### factorial of any number using loop\n"
   ]
  },
  {
   "cell_type": "code",
   "execution_count": 10,
   "metadata": {},
   "outputs": [
    {
     "name": "stdout",
     "output_type": "stream",
     "text": [
      "The factorial of 4 is: 24\n"
     ]
    }
   ],
   "source": [
    "# Input from user\n",
    "number = int(input(\"Enter a number to calculate its factorial: \"))\n",
    "result = 1\n",
    "\n",
    "\n",
    "\n",
    "# Factorial using loop\n",
    "\n",
    "for i in range(1, number + 1):\n",
    "    result *= i\n",
    "    result\n",
    "\n",
    "# Checking if the number is negative\n",
    "if number < 0:\n",
    "    print(\"Factorial does not exist for negative numbers.\")\n",
    "else:\n",
    "    print(f\"The factorial of {number} is: {result}\")"
   ]
  },
  {
   "cell_type": "markdown",
   "metadata": {},
   "source": [
    "## Two matrix Multiplication"
   ]
  },
  {
   "cell_type": "code",
   "execution_count": 15,
   "metadata": {},
   "outputs": [
    {
     "name": "stdout",
     "output_type": "stream",
     "text": [
      "Matrix multiplication is not possible. The number of columns in the first matrix must be equal to the number of rows in the second matrix.\n"
     ]
    }
   ],
   "source": [
    "# Input dimensions for the first matrix\n",
    "rows_matrix1 = int(input(\"Enter the number of rows for the first matrix: \"))\n",
    "cols_matrix1 = int(input(\"Enter the number of columns for the first matrix: \"))\n",
    "\n",
    "# Input dimensions for the second matrix\n",
    "rows_matrix2 = int(input(\"Enter the number of rows for the second matrix: \"))\n",
    "cols_matrix2 = int(input(\"Enter the number of columns for the second matrix: \"))\n",
    "\n",
    "# Check if matrix multiplication is possible\n",
    "if cols_matrix1 != rows_matrix2:\n",
    "    print(\"Matrix multiplication is not possible. The number of columns in the first matrix must be equal to the number of rows in the second matrix.\")\n",
    "else:\n",
    "    # Input elements of the first matrix\n",
    "    print(\"Enter the elements of the first matrix:\")\n",
    "    matrix1 = []\n",
    "    for i in range(rows_matrix1):\n",
    "        row = []\n",
    "        for j in range(cols_matrix1):\n",
    "            row.append(int(input(f\"Element [{i+1},{j+1}]: \")))\n",
    "        matrix1.append(row)\n",
    "\n",
    "    # Input elements of the second matrix\n",
    "    print(\"Enter the elements of the second matrix:\")\n",
    "    matrix2 = []\n",
    "    for i in range(rows_matrix2):\n",
    "        row = []\n",
    "        for j in range(cols_matrix2):\n",
    "            row.append(int(input(f\"Element [{i+1},{j+1}]: \")))\n",
    "        matrix2.append(row)\n",
    "\n",
    "    # Initialize the result matrix with zeros\n",
    "    result = [[0 for _ in range(cols_matrix2)] for _ in range(rows_matrix1)]\n",
    "\n",
    "    # Perform matrix multiplication using nested loops\n",
    "    for i in range(rows_matrix1):\n",
    "        for j in range(cols_matrix2):\n",
    "            for k in range(cols_matrix1):\n",
    "                result[i][j] += matrix1[i][k] * matrix2[k][j]\n",
    "\n",
    "    # Print the resulting matrix\n",
    "    print(\"The result of multiplying the matrices is:\")\n",
    "    for row in result:\n",
    "        print(row)\n"
   ]
  },
  {
   "cell_type": "markdown",
   "metadata": {},
   "source": [
    "## Factor of 11"
   ]
  },
  {
   "cell_type": "code",
   "execution_count": 3,
   "metadata": {},
   "outputs": [
    {
     "name": "stdout",
     "output_type": "stream",
     "text": [
      "\n",
      "The numbers that are divisible by 11 (factors of 11) are:\n",
      "[11, 22, 33, 44, 55, 66, 77, 88, 99, 110, 121, 132, 143, 154, 165, 176, 187, 198]\n"
     ]
    }
   ],
   "source": [
    "# Initialize an empty list to store the 200 numbers\n",
    "numbers = []\n",
    "\n",
    "# Input 200 numbers from the user\n",
    "for i in range(1,201):\n",
    "    # num = int(input(f\"Number {i + 1}: \"))\n",
    "    num = i + 1\n",
    "    numbers.append(num)\n",
    "\n",
    "# Find numbers that are divisible by 11 (factors of 11)2\n",
    "factors_of_11 = []\n",
    "\n",
    "for num in numbers:\n",
    "    if num % 11 == 0:\n",
    "        factors_of_11.append(num)\n",
    "\n",
    "# Print the numbers that are divisible by 11\n",
    "print(\"\\nThe numbers that are divisible by 11 (factors of 11) are:\")\n",
    "print(factors_of_11)\n"
   ]
  },
  {
   "cell_type": "markdown",
   "metadata": {},
   "source": [
    "# Range"
   ]
  },
  {
   "cell_type": "code",
   "execution_count": 4,
   "metadata": {},
   "outputs": [
    {
     "name": "stdout",
     "output_type": "stream",
     "text": [
      "0\n",
      "1\n",
      "2\n",
      "3\n",
      "4\n",
      "5\n",
      "6\n"
     ]
    }
   ],
   "source": [
    "for i in range(0,7): # range(7) can also be used. \n",
    "    print(i)"
   ]
  },
  {
   "cell_type": "markdown",
   "metadata": {},
   "source": [
    "# THE CONTINUE STATEMENT\n",
    "### ‘continue’ is used to stop the current iteration of the loop and continue with the next one. It instructs the Program to “skip this iteration”."
   ]
  },
  {
   "cell_type": "code",
   "execution_count": 3,
   "metadata": {},
   "outputs": [
    {
     "name": "stdout",
     "output_type": "stream",
     "text": [
      "printing\n",
      "0\n",
      "printing\n",
      "1\n",
      "printing\n",
      "printing\n",
      "3\n"
     ]
    }
   ],
   "source": [
    "for i in range(4): \n",
    "    print(\"printing\") \n",
    "    if i == 2: # if i is 2, the iteration is skipped continue print(i) \n",
    "        continue \n",
    "    print(i)"
   ]
  },
  {
   "cell_type": "markdown",
   "metadata": {},
   "source": [
    "# PASS STATEMENT\n",
    "### pass is a null statement in python.\n",
    "### It instructs to “do nothing”."
   ]
  },
  {
   "cell_type": "code",
   "execution_count": 22,
   "metadata": {},
   "outputs": [
    {
     "name": "stdout",
     "output_type": "stream",
     "text": [
      "4\n"
     ]
    }
   ],
   "source": [
    "for i in range(5):\n",
    " if i < 3:\n",
    "  pass\n",
    "print(i)"
   ]
  }
 ],
 "metadata": {
  "kernelspec": {
   "display_name": "workspace_by_shahab",
   "language": "python",
   "name": "python3"
  },
  "language_info": {
   "codemirror_mode": {
    "name": "ipython",
    "version": 3
   },
   "file_extension": ".py",
   "mimetype": "text/x-python",
   "name": "python",
   "nbconvert_exporter": "python",
   "pygments_lexer": "ipython3",
   "version": "3.12.5"
  }
 },
 "nbformat": 4,
 "nbformat_minor": 2
}
