{
 "cells": [
  {
   "cell_type": "markdown",
   "metadata": {},
   "source": [
    "# function "
   ]
  },
  {
   "cell_type": "markdown",
   "metadata": {},
   "source": [
    "### A function is a group of statements performing a specific task.\n",
    "### When a program gets bigger in size and its complexity grows, it gets difficult for a program to keep track on which piece of code is doing what!\n",
    "### A function can be reused by the programmer in a given program any number of"
   ]
  },
  {
   "cell_type": "markdown",
   "metadata": {},
   "source": [
    "# EXAMPLE AND SYNTAX OF A FUNCTION\n",
    "#### The syntax of a function looks as follows:"
   ]
  },
  {
   "cell_type": "code",
   "execution_count": 3,
   "metadata": {},
   "outputs": [
    {
     "name": "stdout",
     "output_type": "stream",
     "text": [
      "hello\n"
     ]
    }
   ],
   "source": [
    "def func1():\n",
    " print('hello')\n",
    "func1()# This is called function call."
   ]
  },
  {
   "cell_type": "markdown",
   "metadata": {},
   "source": [
    "# FUNCTION DEFINITION\n",
    "### The part containing the exact set of instructions which are executed during the function call."
   ]
  },
  {
   "cell_type": "markdown",
   "metadata": {},
   "source": [
    "# TYPES OF FUNCTIONS IN PYTHON\n",
    "### There are two types of functions in python:\n",
    "### • Built in functions (Already present in python)\n",
    "### • User defined functions (Defined by the user)\n",
    "### Examples of built in functions includes len(), print(), range() etc.\n",
    "### The func1() function we defined is an example of user defined function. FUNCTIONS WITH ARGUMENTS\n",
    "### A function can accept some value it can work with. We can put these values in the parentheses.\n",
    "### A function can also return value as shown below:"
   ]
  },
  {
   "cell_type": "code",
   "execution_count": 5,
   "metadata": {},
   "outputs": [
    {
     "data": {
      "text/plain": [
       "'helloShahab'"
      ]
     },
     "execution_count": 5,
     "metadata": {},
     "output_type": "execute_result"
    }
   ],
   "source": [
    "def greet(name):\n",
    "    gr = \"hello\"+ name \n",
    "    return gr \n",
    "a = greet (\"Shahab\") # a will now contain \"hello Shahab\"\n",
    "a"
   ]
  },
  {
   "cell_type": "markdown",
   "metadata": {},
   "source": [
    "# DEFAULT PARAMETER VALUE\n",
    "### We can have a value as default as default argument in a function.\n",
    "### If we specify name = “stranger” in the line containing def, this value is used when no argument is passed.\n",
    "# Example:"
   ]
  },
  {
   "cell_type": "code",
   "execution_count": 10,
   "metadata": {},
   "outputs": [
    {
     "name": "stdout",
     "output_type": "stream",
     "text": [
      "stranger\n",
      "Shahab khan\n"
     ]
    }
   ],
   "source": [
    "def greet(name = \"stranger\"): # function body \n",
    "    print(name)\n",
    "greet() # name will be \"stranger\" in function body (default) \n",
    "greet(\"Shahab khan\") # name will be \"Shahab khan\" in function body (passed)\n",
    "    "
   ]
  },
  {
   "cell_type": "markdown",
   "metadata": {},
   "source": [
    "# RECURSION\n",
    "### Recursion is a function which calls itself.\n",
    "### It is used to directly use a mathematical formula as function.\n",
    "# Example:"
   ]
  },
  {
   "cell_type": "code",
   "execution_count": 26,
   "metadata": {},
   "outputs": [],
   "source": [
    "def factorial(n):\n",
    "    if i == 0 or i==1: # base condition which doesn’t call the function any further \n",
    "        return 1 \n",
    "    else: \n",
    "        return n*factorial(n-1) # function calling itself\n",
    "n=input(\"Enter the number\")\n"
   ]
  },
  {
   "cell_type": "markdown",
   "metadata": {},
   "source": [
    "# Variable-length Arguments (*args)\n",
    "\n",
    "*args allows a function to accept any number of positional arguments.\n",
    "\n",
    "## Example:\n"
   ]
  },
  {
   "cell_type": "code",
   "execution_count": 2,
   "metadata": {},
   "outputs": [
    {
     "name": "stdout",
     "output_type": "stream",
     "text": [
      "110\n"
     ]
    }
   ],
   "source": [
    "# task thats sir given to us\n",
    "def addition(*args):\n",
    "    total = 0\n",
    "    for i in args:\n",
    "        total += i\n",
    "    return total\n",
    "total = addition(10 + 10 * 10)\n",
    "print(total)"
   ]
  }
 ],
 "metadata": {
  "kernelspec": {
   "display_name": "workspace_by_shahab",
   "language": "python",
   "name": "python3"
  },
  "language_info": {
   "codemirror_mode": {
    "name": "ipython",
    "version": 3
   },
   "file_extension": ".py",
   "mimetype": "text/x-python",
   "name": "python",
   "nbconvert_exporter": "python",
   "pygments_lexer": "ipython3",
   "version": "3.12.5"
  }
 },
 "nbformat": 4,
 "nbformat_minor": 2
}
